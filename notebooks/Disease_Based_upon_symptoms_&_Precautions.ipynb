{
  "cells": [
    {
      "cell_type": "markdown",
      "metadata": {
        "colab_type": "text",
        "id": "view-in-github"
      },
      "source": [
        "<a href=\"https://colab.research.google.com/github/shruti629/Deep-Health-Analysis-and-Disease-Prediction/blob/main/Disease_Based_upon_symptoms_%26_Precautions.ipynb\" target=\"_parent\"><img src=\"https://colab.research.google.com/assets/colab-badge.svg\" alt=\"Open In Colab\"/></a>"
      ]
    },
    {
      "cell_type": "code",
      "execution_count": 3,
      "metadata": {
        "id": "Wv4ioKn9ZQ_e"
      },
      "outputs": [],
      "source": [
        "import pandas as pd\n",
        "from sklearn.model_selection import train_test_split,cross_val_score\n",
        "from sklearn.preprocessing import MultiLabelBinarizer,LabelEncoder\n",
        "from sklearn.ensemble import RandomForestClassifier\n",
        "from sklearn.metrics import precision_score, recall_score ,f1_score\n",
        "import warnings\n",
        "warnings.filterwarnings('ignore')\n",
        "import pickle"
      ]
    },
    {
      "cell_type": "code",
      "execution_count": 12,
      "metadata": {},
      "outputs": [],
      "source": [
        "# Step 1: Load the CSV\n",
        "df = pd.read_csv(r'D:\\Deep-Health-Analysis-and-Disease-Prediction\\notebooks\\data\\disease precaution.csv')\n",
        "\n",
        "# Step 2: Rename the column\n",
        "df = df.rename(columns={'MisspelledColumnName': 'Symptoms'})"
      ]
    },
    {
      "cell_type": "code",
      "execution_count": 13,
      "metadata": {
        "colab": {
          "base_uri": "https://localhost:8080/",
          "height": 206
        },
        "id": "7Jn00BLRbysD",
        "outputId": "f82f862b-05dd-4f1b-edcf-def63d59792b"
      },
      "outputs": [
        {
          "data": {
            "text/html": [
              "<div>\n",
              "<style scoped>\n",
              "    .dataframe tbody tr th:only-of-type {\n",
              "        vertical-align: middle;\n",
              "    }\n",
              "\n",
              "    .dataframe tbody tr th {\n",
              "        vertical-align: top;\n",
              "    }\n",
              "\n",
              "    .dataframe thead th {\n",
              "        text-align: right;\n",
              "    }\n",
              "</style>\n",
              "<table border=\"1\" class=\"dataframe\">\n",
              "  <thead>\n",
              "    <tr style=\"text-align: right;\">\n",
              "      <th></th>\n",
              "      <th>Disease</th>\n",
              "      <th>Symptoms</th>\n",
              "      <th>Precautions</th>\n",
              "    </tr>\n",
              "  </thead>\n",
              "  <tbody>\n",
              "    <tr>\n",
              "      <th>0</th>\n",
              "      <td>Influenza (Flu)</td>\n",
              "      <td>Fever, cough, sore throat, runny or stuffy nos...</td>\n",
              "      <td>Get vaccinated, wash hands frequently, avoid c...</td>\n",
              "    </tr>\n",
              "    <tr>\n",
              "      <th>1</th>\n",
              "      <td>COVID-19</td>\n",
              "      <td>Fever, cough, difficulty breathing, loss of ta...</td>\n",
              "      <td>Get vaccinated, wear a mask, practice social d...</td>\n",
              "    </tr>\n",
              "    <tr>\n",
              "      <th>2</th>\n",
              "      <td>Diabetes</td>\n",
              "      <td>Increased thirst, frequent urination, extreme ...</td>\n",
              "      <td>Maintain a healthy diet, exercise regularly, m...</td>\n",
              "    </tr>\n",
              "    <tr>\n",
              "      <th>3</th>\n",
              "      <td>Hypertension (High Blood Pressure)</td>\n",
              "      <td>Often asymptomatic, but may include headaches,...</td>\n",
              "      <td>Eat a balanced diet low in salt, exercise regu...</td>\n",
              "    </tr>\n",
              "    <tr>\n",
              "      <th>4</th>\n",
              "      <td>Asthma</td>\n",
              "      <td>Shortness of breath, chest tightness, wheezing...</td>\n",
              "      <td>Avoid allergens, use prescribed inhalers, avoi...</td>\n",
              "    </tr>\n",
              "  </tbody>\n",
              "</table>\n",
              "</div>"
            ],
            "text/plain": [
              "                              Disease  \\\n",
              "0                     Influenza (Flu)   \n",
              "1                            COVID-19   \n",
              "2                            Diabetes   \n",
              "3  Hypertension (High Blood Pressure)   \n",
              "4                              Asthma   \n",
              "\n",
              "                                            Symptoms  \\\n",
              "0  Fever, cough, sore throat, runny or stuffy nos...   \n",
              "1  Fever, cough, difficulty breathing, loss of ta...   \n",
              "2  Increased thirst, frequent urination, extreme ...   \n",
              "3  Often asymptomatic, but may include headaches,...   \n",
              "4  Shortness of breath, chest tightness, wheezing...   \n",
              "\n",
              "                                         Precautions  \n",
              "0  Get vaccinated, wash hands frequently, avoid c...  \n",
              "1  Get vaccinated, wear a mask, practice social d...  \n",
              "2  Maintain a healthy diet, exercise regularly, m...  \n",
              "3  Eat a balanced diet low in salt, exercise regu...  \n",
              "4  Avoid allergens, use prescribed inhalers, avoi...  "
            ]
          },
          "execution_count": 13,
          "metadata": {},
          "output_type": "execute_result"
        }
      ],
      "source": [
        "df.head()"
      ]
    },
    {
      "cell_type": "code",
      "execution_count": 14,
      "metadata": {
        "id": "Naj7ksMxda_k"
      },
      "outputs": [],
      "source": [
        "# Encode categorical variables\n",
        "le_disease = LabelEncoder()\n",
        "df['Disease'] = le_disease.fit_transform(df['Disease'])"
      ]
    },
    {
      "cell_type": "code",
      "execution_count": 15,
      "metadata": {
        "id": "zv3ok5z3du-U"
      },
      "outputs": [],
      "source": [
        "mlb_symptoms = MultiLabelBinarizer()\n",
        "mlb_precautions = MultiLabelBinarizer()"
      ]
    },
    {
      "cell_type": "code",
      "execution_count": 16,
      "metadata": {
        "id": "LIW2hx2Ueg2z"
      },
      "outputs": [],
      "source": [
        "df['Symptoms'] = df['Symptoms'].apply(lambda x: x.split(','))\n",
        "\n",
        "df['Precautions'] = df['Precautions'].apply(lambda x: x.split(','))\n"
      ]
    },
    {
      "cell_type": "code",
      "execution_count": 17,
      "metadata": {
        "id": "1ZInRhNCejSd"
      },
      "outputs": [],
      "source": [
        "symptoms_encoded = mlb_symptoms.fit_transform(df['Symptoms'])\n",
        "precautions_encoded = mlb_precautions.fit_transform(df['Precautions'])"
      ]
    },
    {
      "cell_type": "code",
      "execution_count": 18,
      "metadata": {
        "id": "4VYr6HH7wKDP"
      },
      "outputs": [],
      "source": [
        "# Split the data into features and target\n",
        "X = df[['Disease']]\n",
        "y_symptoms = pd.DataFrame(symptoms_encoded, columns=mlb_symptoms.classes_)\n",
        "y_precautions = pd.DataFrame(precautions_encoded, columns=mlb_precautions.classes_)\n"
      ]
    },
    {
      "cell_type": "code",
      "execution_count": 19,
      "metadata": {
        "id": "9ffLFuZTwXQB"
      },
      "outputs": [],
      "source": [
        "# Split the data into training and testing sets\n",
        "X_train, X_test, y_train_symptoms, y_test_symptoms, y_train_precautions, y_test_precautions = train_test_split(\n",
        "    X, y_symptoms, y_precautions, test_size=0.2, random_state=42)\n"
      ]
    },
    {
      "cell_type": "code",
      "execution_count": 20,
      "metadata": {
        "colab": {
          "base_uri": "https://localhost:8080/",
          "height": 75
        },
        "id": "noPwM6TVwaMG",
        "outputId": "da3c05eb-3331-45f2-f5e9-fd959468f0ab"
      },
      "outputs": [
        {
          "data": {
            "text/html": [
              "<style>#sk-container-id-1 {color: black;}#sk-container-id-1 pre{padding: 0;}#sk-container-id-1 div.sk-toggleable {background-color: white;}#sk-container-id-1 label.sk-toggleable__label {cursor: pointer;display: block;width: 100%;margin-bottom: 0;padding: 0.3em;box-sizing: border-box;text-align: center;}#sk-container-id-1 label.sk-toggleable__label-arrow:before {content: \"▸\";float: left;margin-right: 0.25em;color: #696969;}#sk-container-id-1 label.sk-toggleable__label-arrow:hover:before {color: black;}#sk-container-id-1 div.sk-estimator:hover label.sk-toggleable__label-arrow:before {color: black;}#sk-container-id-1 div.sk-toggleable__content {max-height: 0;max-width: 0;overflow: hidden;text-align: left;background-color: #f0f8ff;}#sk-container-id-1 div.sk-toggleable__content pre {margin: 0.2em;color: black;border-radius: 0.25em;background-color: #f0f8ff;}#sk-container-id-1 input.sk-toggleable__control:checked~div.sk-toggleable__content {max-height: 200px;max-width: 100%;overflow: auto;}#sk-container-id-1 input.sk-toggleable__control:checked~label.sk-toggleable__label-arrow:before {content: \"▾\";}#sk-container-id-1 div.sk-estimator input.sk-toggleable__control:checked~label.sk-toggleable__label {background-color: #d4ebff;}#sk-container-id-1 div.sk-label input.sk-toggleable__control:checked~label.sk-toggleable__label {background-color: #d4ebff;}#sk-container-id-1 input.sk-hidden--visually {border: 0;clip: rect(1px 1px 1px 1px);clip: rect(1px, 1px, 1px, 1px);height: 1px;margin: -1px;overflow: hidden;padding: 0;position: absolute;width: 1px;}#sk-container-id-1 div.sk-estimator {font-family: monospace;background-color: #f0f8ff;border: 1px dotted black;border-radius: 0.25em;box-sizing: border-box;margin-bottom: 0.5em;}#sk-container-id-1 div.sk-estimator:hover {background-color: #d4ebff;}#sk-container-id-1 div.sk-parallel-item::after {content: \"\";width: 100%;border-bottom: 1px solid gray;flex-grow: 1;}#sk-container-id-1 div.sk-label:hover label.sk-toggleable__label {background-color: #d4ebff;}#sk-container-id-1 div.sk-serial::before {content: \"\";position: absolute;border-left: 1px solid gray;box-sizing: border-box;top: 0;bottom: 0;left: 50%;z-index: 0;}#sk-container-id-1 div.sk-serial {display: flex;flex-direction: column;align-items: center;background-color: white;padding-right: 0.2em;padding-left: 0.2em;position: relative;}#sk-container-id-1 div.sk-item {position: relative;z-index: 1;}#sk-container-id-1 div.sk-parallel {display: flex;align-items: stretch;justify-content: center;background-color: white;position: relative;}#sk-container-id-1 div.sk-item::before, #sk-container-id-1 div.sk-parallel-item::before {content: \"\";position: absolute;border-left: 1px solid gray;box-sizing: border-box;top: 0;bottom: 0;left: 50%;z-index: -1;}#sk-container-id-1 div.sk-parallel-item {display: flex;flex-direction: column;z-index: 1;position: relative;background-color: white;}#sk-container-id-1 div.sk-parallel-item:first-child::after {align-self: flex-end;width: 50%;}#sk-container-id-1 div.sk-parallel-item:last-child::after {align-self: flex-start;width: 50%;}#sk-container-id-1 div.sk-parallel-item:only-child::after {width: 0;}#sk-container-id-1 div.sk-dashed-wrapped {border: 1px dashed gray;margin: 0 0.4em 0.5em 0.4em;box-sizing: border-box;padding-bottom: 0.4em;background-color: white;}#sk-container-id-1 div.sk-label label {font-family: monospace;font-weight: bold;display: inline-block;line-height: 1.2em;}#sk-container-id-1 div.sk-label-container {text-align: center;}#sk-container-id-1 div.sk-container {/* jupyter's `normalize.less` sets `[hidden] { display: none; }` but bootstrap.min.css set `[hidden] { display: none !important; }` so we also need the `!important` here to be able to override the default hidden behavior on the sphinx rendered scikit-learn.org. See: https://github.com/scikit-learn/scikit-learn/issues/21755 */display: inline-block !important;position: relative;}#sk-container-id-1 div.sk-text-repr-fallback {display: none;}</style><div id=\"sk-container-id-1\" class=\"sk-top-container\"><div class=\"sk-text-repr-fallback\"><pre>RandomForestClassifier()</pre><b>In a Jupyter environment, please rerun this cell to show the HTML representation or trust the notebook. <br />On GitHub, the HTML representation is unable to render, please try loading this page with nbviewer.org.</b></div><div class=\"sk-container\" hidden><div class=\"sk-item\"><div class=\"sk-estimator sk-toggleable\"><input class=\"sk-toggleable__control sk-hidden--visually\" id=\"sk-estimator-id-1\" type=\"checkbox\" checked><label for=\"sk-estimator-id-1\" class=\"sk-toggleable__label sk-toggleable__label-arrow\">RandomForestClassifier</label><div class=\"sk-toggleable__content\"><pre>RandomForestClassifier()</pre></div></div></div></div></div>"
            ],
            "text/plain": [
              "RandomForestClassifier()"
            ]
          },
          "execution_count": 20,
          "metadata": {},
          "output_type": "execute_result"
        }
      ],
      "source": [
        "# Model training for symptoms\n",
        "model_symptoms = RandomForestClassifier()\n",
        "model_symptoms.fit(X_train, y_train_symptoms)\n",
        "\n",
        "# Model training for precautions\n",
        "model_precautions = RandomForestClassifier()\n",
        "model_precautions.fit(X_train, y_train_precautions)\n"
      ]
    },
    {
      "cell_type": "code",
      "execution_count": 21,
      "metadata": {
        "id": "TGaTo_FTwmND"
      },
      "outputs": [],
      "source": [
        "# Predictions\n",
        "y_pred_symptoms = model_symptoms.predict(X_test)\n",
        "y_pred_precautions = model_precautions.predict(X_test)\n"
      ]
    },
    {
      "cell_type": "code",
      "execution_count": 22,
      "metadata": {
        "colab": {
          "base_uri": "https://localhost:8080/"
        },
        "id": "fpseWmU8wohQ",
        "outputId": "a5f56e1c-af7d-442c-83ef-e124e904c334"
      },
      "outputs": [
        {
          "name": "stdout",
          "output_type": "stream",
          "text": [
            "Symptoms - Precision: 0.7907237152286658, Recall: 0.749174917491749, F1-score: 0.5985541411283986\n",
            "Precautions - Precision: 0.7836879432624113, Recall: 0.7695035460992907, F1-score: 0.6276595744680851\n"
          ]
        }
      ],
      "source": [
        "# Evaluation\n",
        "precision_symptoms = precision_score(y_test_symptoms, y_pred_symptoms, average='macro', zero_division=1)\n",
        "recall_symptoms = recall_score(y_test_symptoms, y_pred_symptoms, average='macro', zero_division=1)\n",
        "f1_symptoms = f1_score(y_test_symptoms, y_pred_symptoms, average='macro', zero_division=1)\n",
        "\n",
        "precision_precautions = precision_score(y_test_precautions, y_pred_precautions, average='macro', zero_division=1)\n",
        "recall_precautions = recall_score(y_test_precautions, y_pred_precautions, average='macro', zero_division=1)\n",
        "f1_precautions = f1_score(y_test_precautions, y_pred_precautions, average='macro', zero_division=1)\n",
        "\n",
        "print(f'Symptoms - Precision: {precision_symptoms}, Recall: {recall_symptoms}, F1-score: {f1_symptoms}')\n",
        "print(f'Precautions - Precision: {precision_precautions}, Recall: {recall_precautions}, F1-score: {f1_precautions}')"
      ]
    },
    {
      "cell_type": "code",
      "execution_count": 23,
      "metadata": {
        "colab": {
          "base_uri": "https://localhost:8080/"
        },
        "id": "HhlubB21w2XG",
        "outputId": "58a57b40-a00f-47c4-9942-3ca205bea554"
      },
      "outputs": [
        {
          "name": "stdout",
          "output_type": "stream",
          "text": [
            "Cross-validated F1-scores for symptoms prediction: [0.0111504  0.00733573 0.00966525 0.01922442 0.0049505 ]\n",
            "Cross-validated F1-scores for precautions prediction: [0.01384667 0.00413712 0.01040189 0.00641675 0.        ]\n"
          ]
        }
      ],
      "source": [
        "# Cross-validation\n",
        "cv_scores_symptoms = cross_val_score(model_symptoms, X, symptoms_encoded, cv=5, scoring='f1_macro')\n",
        "cv_scores_precautions = cross_val_score(model_precautions, X, precautions_encoded, cv=5, scoring='f1_macro')\n",
        "\n",
        "print(f'Cross-validated F1-scores for symptoms prediction: {cv_scores_symptoms}')\n",
        "print(f'Cross-validated F1-scores for precautions prediction: {cv_scores_precautions}')"
      ]
    },
    {
      "cell_type": "code",
      "execution_count": 26,
      "metadata": {
        "id": "LIi9GX9lxAGe"
      },
      "outputs": [],
      "source": [
        "# Function to make predictions\n",
        "def predict_symptoms_precautions(disease_name):\n",
        "    try:\n",
        "        disease_encoded = le_disease.transform([disease_name])\n",
        "        symptoms_encoded = model_symptoms.predict([disease_encoded])\n",
        "        precautions_encoded = model_precautions.predict([disease_encoded])\n",
        "\n",
        "        symptoms = mlb_symptoms.inverse_transform(symptoms_encoded)\n",
        "        precautions = mlb_precautions.inverse_transform(precautions_encoded)\n",
        "\n",
        "        return symptoms[0], precautions[0]\n",
        "    except ValueError as e:\n",
        "        return str(e), str(e)"
      ]
    },
    {
      "cell_type": "code",
      "execution_count": 27,
      "metadata": {
        "colab": {
          "base_uri": "https://localhost:8080/"
        },
        "id": "tn744jTYxHkx",
        "outputId": "8da32167-46a5-4c0f-a92b-9c3e19663a4b"
      },
      "outputs": [
        {
          "name": "stdout",
          "output_type": "stream",
          "text": [
            "Predicted symptoms for Diabetes: (' blurry vision', ' extreme fatigue', ' frequent urination', ' slow-healing sores', 'Increased thirst')\n",
            "Predicted precautions for Diabetes: (' exercise regularly', ' monitor blood sugar levels', ' take prescribed medications', 'Maintain a healthy diet')\n"
          ]
        }
      ],
      "source": [
        "# Example prediction\n",
        "example_disease = 'Diabetes'\n",
        "predicted_symptoms, predicted_precautions = predict_symptoms_precautions(example_disease)\n",
        "print(f'Predicted symptoms for {example_disease}: {predicted_symptoms}')\n",
        "print(f'Predicted precautions for {example_disease}: {predicted_precautions}')"
      ]
    },
    {
      "cell_type": "markdown",
      "metadata": {
        "id": "NH44Uz3ryehB"
      },
      "source": [
        "Save the models using pickle"
      ]
    },
    {
      "cell_type": "code",
      "execution_count": 28,
      "metadata": {
        "id": "vDBhEkmuyigg"
      },
      "outputs": [],
      "source": [
        "with open('model_symptoms.pkl', 'wb') as f:\n",
        "    pickle.dump(model_symptoms, f)\n",
        "\n",
        "with open('model_precautions.pkl', 'wb') as f:\n",
        "    pickle.dump(model_precautions, f)\n",
        "\n",
        "with open('le_disease.pkl', 'wb') as f:\n",
        "    pickle.dump(le_disease, f)\n",
        "\n",
        "with open('mlb_symptoms.pkl', 'wb') as f:\n",
        "    pickle.dump(mlb_symptoms, f)\n",
        "\n",
        "with open('mlb_precautions.pkl', 'wb') as f:\n",
        "    pickle.dump(mlb_precautions, f)"
      ]
    },
    {
      "cell_type": "code",
      "execution_count": 29,
      "metadata": {
        "id": "UDOyEWOKytEr"
      },
      "outputs": [],
      "source": [
        "# Load the models using pickle\n",
        "def load_models():\n",
        "    with open('model_symptoms.pkl', 'rb') as f:\n",
        "        model_symptoms = pickle.load(f)\n",
        "    with open('model_precautions.pkl', 'rb') as f:\n",
        "        model_precautions = pickle.load(f)\n",
        "    with open('le_disease.pkl', 'rb') as f:\n",
        "        le_disease = pickle.load(f)\n",
        "    with open('mlb_symptoms.pkl', 'rb') as f:\n",
        "        mlb_symptoms = pickle.load(f)\n",
        "    with open('mlb_precautions.pkl', 'rb') as f:\n",
        "        mlb_precautions = pickle.load(f)\n",
        "    return model_symptoms, model_precautions, le_disease, mlb_symptoms, mlb_precautions\n"
      ]
    }
  ],
  "metadata": {
    "colab": {
      "authorship_tag": "ABX9TyM84Yn88t55rsweO8ROKWgf",
      "include_colab_link": true,
      "mount_file_id": "1EqQEe9i-M4ulwJBFu_cajPoCLCSmB1i_",
      "provenance": []
    },
    "kernelspec": {
      "display_name": "Python 3",
      "name": "python3"
    },
    "language_info": {
      "codemirror_mode": {
        "name": "ipython",
        "version": 3
      },
      "file_extension": ".py",
      "mimetype": "text/x-python",
      "name": "python",
      "nbconvert_exporter": "python",
      "pygments_lexer": "ipython3",
      "version": "3.8.20"
    }
  },
  "nbformat": 4,
  "nbformat_minor": 0
}

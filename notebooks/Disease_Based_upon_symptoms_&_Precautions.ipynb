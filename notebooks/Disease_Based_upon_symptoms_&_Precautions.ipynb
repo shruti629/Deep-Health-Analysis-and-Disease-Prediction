{
  "nbformat": 4,
  "nbformat_minor": 0,
  "metadata": {
    "colab": {
      "provenance": [],
      "mount_file_id": "1EqQEe9i-M4ulwJBFu_cajPoCLCSmB1i_",
      "authorship_tag": "ABX9TyM84Yn88t55rsweO8ROKWgf",
      "include_colab_link": true
    },
    "kernelspec": {
      "name": "python3",
      "display_name": "Python 3"
    },
    "language_info": {
      "name": "python"
    }
  },
  "cells": [
    {
      "cell_type": "markdown",
      "metadata": {
        "id": "view-in-github",
        "colab_type": "text"
      },
      "source": [
        "<a href=\"https://colab.research.google.com/github/shruti629/Deep-Health-Analysis-and-Disease-Prediction/blob/main/Disease_Based_upon_symptoms_%26_Precautions.ipynb\" target=\"_parent\"><img src=\"https://colab.research.google.com/assets/colab-badge.svg\" alt=\"Open In Colab\"/></a>"
      ]
    },
    {
      "cell_type": "code",
      "execution_count": null,
      "metadata": {
        "id": "Wv4ioKn9ZQ_e"
      },
      "outputs": [],
      "source": [
        "import pandas as pd\n",
        "from sklearn.model_selection import train_test_split,cross_val_score\n",
        "from sklearn.preprocessing import MultiLabelBinarizer,LabelEncoder\n",
        "from sklearn.ensemble import RandomForestClassifier\n",
        "from sklearn.metrics import precision_score, recall_score ,f1_score\n",
        "import warnings\n",
        "warnings.filterwarnings('ignore')\n",
        "import pickle"
      ]
    },
    {
      "cell_type": "code",
      "source": [
        "df = df.rename(columns={'MisspelledColumnName': 'Symptoms'})\n",
        "df=pd.read_csv('/content/drive/MyDrive/disease precaution.csv')"
      ],
      "metadata": {
        "id": "4ovuuD39bor0"
      },
      "execution_count": null,
      "outputs": []
    },
    {
      "cell_type": "code",
      "source": [
        "df.head()"
      ],
      "metadata": {
        "colab": {
          "base_uri": "https://localhost:8080/",
          "height": 206
        },
        "id": "7Jn00BLRbysD",
        "outputId": "f82f862b-05dd-4f1b-edcf-def63d59792b"
      },
      "execution_count": null,
      "outputs": [
        {
          "output_type": "execute_result",
          "data": {
            "text/plain": [
              "                              Disease  \\\n",
              "0                     Influenza (Flu)   \n",
              "1                            COVID-19   \n",
              "2                            Diabetes   \n",
              "3  Hypertension (High Blood Pressure)   \n",
              "4                              Asthma   \n",
              "\n",
              "                                            Symptoms  \\\n",
              "0  Fever, cough, sore throat, runny or stuffy nos...   \n",
              "1  Fever, cough, difficulty breathing, loss of ta...   \n",
              "2  Increased thirst, frequent urination, extreme ...   \n",
              "3  Often asymptomatic, but may include headaches,...   \n",
              "4  Shortness of breath, chest tightness, wheezing...   \n",
              "\n",
              "                                         Precautions  \n",
              "0  Get vaccinated, wash hands frequently, avoid c...  \n",
              "1  Get vaccinated, wear a mask, practice social d...  \n",
              "2  Maintain a healthy diet, exercise regularly, m...  \n",
              "3  Eat a balanced diet low in salt, exercise regu...  \n",
              "4  Avoid allergens, use prescribed inhalers, avoi...  "
            ],
            "text/html": [
              "\n",
              "  <div id=\"df-13d7fcc0-8abf-4904-94f7-daff77568903\" class=\"colab-df-container\">\n",
              "    <div>\n",
              "<style scoped>\n",
              "    .dataframe tbody tr th:only-of-type {\n",
              "        vertical-align: middle;\n",
              "    }\n",
              "\n",
              "    .dataframe tbody tr th {\n",
              "        vertical-align: top;\n",
              "    }\n",
              "\n",
              "    .dataframe thead th {\n",
              "        text-align: right;\n",
              "    }\n",
              "</style>\n",
              "<table border=\"1\" class=\"dataframe\">\n",
              "  <thead>\n",
              "    <tr style=\"text-align: right;\">\n",
              "      <th></th>\n",
              "      <th>Disease</th>\n",
              "      <th>Symptoms</th>\n",
              "      <th>Precautions</th>\n",
              "    </tr>\n",
              "  </thead>\n",
              "  <tbody>\n",
              "    <tr>\n",
              "      <th>0</th>\n",
              "      <td>Influenza (Flu)</td>\n",
              "      <td>Fever, cough, sore throat, runny or stuffy nos...</td>\n",
              "      <td>Get vaccinated, wash hands frequently, avoid c...</td>\n",
              "    </tr>\n",
              "    <tr>\n",
              "      <th>1</th>\n",
              "      <td>COVID-19</td>\n",
              "      <td>Fever, cough, difficulty breathing, loss of ta...</td>\n",
              "      <td>Get vaccinated, wear a mask, practice social d...</td>\n",
              "    </tr>\n",
              "    <tr>\n",
              "      <th>2</th>\n",
              "      <td>Diabetes</td>\n",
              "      <td>Increased thirst, frequent urination, extreme ...</td>\n",
              "      <td>Maintain a healthy diet, exercise regularly, m...</td>\n",
              "    </tr>\n",
              "    <tr>\n",
              "      <th>3</th>\n",
              "      <td>Hypertension (High Blood Pressure)</td>\n",
              "      <td>Often asymptomatic, but may include headaches,...</td>\n",
              "      <td>Eat a balanced diet low in salt, exercise regu...</td>\n",
              "    </tr>\n",
              "    <tr>\n",
              "      <th>4</th>\n",
              "      <td>Asthma</td>\n",
              "      <td>Shortness of breath, chest tightness, wheezing...</td>\n",
              "      <td>Avoid allergens, use prescribed inhalers, avoi...</td>\n",
              "    </tr>\n",
              "  </tbody>\n",
              "</table>\n",
              "</div>\n",
              "    <div class=\"colab-df-buttons\">\n",
              "\n",
              "  <div class=\"colab-df-container\">\n",
              "    <button class=\"colab-df-convert\" onclick=\"convertToInteractive('df-13d7fcc0-8abf-4904-94f7-daff77568903')\"\n",
              "            title=\"Convert this dataframe to an interactive table.\"\n",
              "            style=\"display:none;\">\n",
              "\n",
              "  <svg xmlns=\"http://www.w3.org/2000/svg\" height=\"24px\" viewBox=\"0 -960 960 960\">\n",
              "    <path d=\"M120-120v-720h720v720H120Zm60-500h600v-160H180v160Zm220 220h160v-160H400v160Zm0 220h160v-160H400v160ZM180-400h160v-160H180v160Zm440 0h160v-160H620v160ZM180-180h160v-160H180v160Zm440 0h160v-160H620v160Z\"/>\n",
              "  </svg>\n",
              "    </button>\n",
              "\n",
              "  <style>\n",
              "    .colab-df-container {\n",
              "      display:flex;\n",
              "      gap: 12px;\n",
              "    }\n",
              "\n",
              "    .colab-df-convert {\n",
              "      background-color: #E8F0FE;\n",
              "      border: none;\n",
              "      border-radius: 50%;\n",
              "      cursor: pointer;\n",
              "      display: none;\n",
              "      fill: #1967D2;\n",
              "      height: 32px;\n",
              "      padding: 0 0 0 0;\n",
              "      width: 32px;\n",
              "    }\n",
              "\n",
              "    .colab-df-convert:hover {\n",
              "      background-color: #E2EBFA;\n",
              "      box-shadow: 0px 1px 2px rgba(60, 64, 67, 0.3), 0px 1px 3px 1px rgba(60, 64, 67, 0.15);\n",
              "      fill: #174EA6;\n",
              "    }\n",
              "\n",
              "    .colab-df-buttons div {\n",
              "      margin-bottom: 4px;\n",
              "    }\n",
              "\n",
              "    [theme=dark] .colab-df-convert {\n",
              "      background-color: #3B4455;\n",
              "      fill: #D2E3FC;\n",
              "    }\n",
              "\n",
              "    [theme=dark] .colab-df-convert:hover {\n",
              "      background-color: #434B5C;\n",
              "      box-shadow: 0px 1px 3px 1px rgba(0, 0, 0, 0.15);\n",
              "      filter: drop-shadow(0px 1px 2px rgba(0, 0, 0, 0.3));\n",
              "      fill: #FFFFFF;\n",
              "    }\n",
              "  </style>\n",
              "\n",
              "    <script>\n",
              "      const buttonEl =\n",
              "        document.querySelector('#df-13d7fcc0-8abf-4904-94f7-daff77568903 button.colab-df-convert');\n",
              "      buttonEl.style.display =\n",
              "        google.colab.kernel.accessAllowed ? 'block' : 'none';\n",
              "\n",
              "      async function convertToInteractive(key) {\n",
              "        const element = document.querySelector('#df-13d7fcc0-8abf-4904-94f7-daff77568903');\n",
              "        const dataTable =\n",
              "          await google.colab.kernel.invokeFunction('convertToInteractive',\n",
              "                                                    [key], {});\n",
              "        if (!dataTable) return;\n",
              "\n",
              "        const docLinkHtml = 'Like what you see? Visit the ' +\n",
              "          '<a target=\"_blank\" href=https://colab.research.google.com/notebooks/data_table.ipynb>data table notebook</a>'\n",
              "          + ' to learn more about interactive tables.';\n",
              "        element.innerHTML = '';\n",
              "        dataTable['output_type'] = 'display_data';\n",
              "        await google.colab.output.renderOutput(dataTable, element);\n",
              "        const docLink = document.createElement('div');\n",
              "        docLink.innerHTML = docLinkHtml;\n",
              "        element.appendChild(docLink);\n",
              "      }\n",
              "    </script>\n",
              "  </div>\n",
              "\n",
              "\n",
              "<div id=\"df-0602b452-0fc2-449e-a15a-daf55f7ede5e\">\n",
              "  <button class=\"colab-df-quickchart\" onclick=\"quickchart('df-0602b452-0fc2-449e-a15a-daf55f7ede5e')\"\n",
              "            title=\"Suggest charts\"\n",
              "            style=\"display:none;\">\n",
              "\n",
              "<svg xmlns=\"http://www.w3.org/2000/svg\" height=\"24px\"viewBox=\"0 0 24 24\"\n",
              "     width=\"24px\">\n",
              "    <g>\n",
              "        <path d=\"M19 3H5c-1.1 0-2 .9-2 2v14c0 1.1.9 2 2 2h14c1.1 0 2-.9 2-2V5c0-1.1-.9-2-2-2zM9 17H7v-7h2v7zm4 0h-2V7h2v10zm4 0h-2v-4h2v4z\"/>\n",
              "    </g>\n",
              "</svg>\n",
              "  </button>\n",
              "\n",
              "<style>\n",
              "  .colab-df-quickchart {\n",
              "      --bg-color: #E8F0FE;\n",
              "      --fill-color: #1967D2;\n",
              "      --hover-bg-color: #E2EBFA;\n",
              "      --hover-fill-color: #174EA6;\n",
              "      --disabled-fill-color: #AAA;\n",
              "      --disabled-bg-color: #DDD;\n",
              "  }\n",
              "\n",
              "  [theme=dark] .colab-df-quickchart {\n",
              "      --bg-color: #3B4455;\n",
              "      --fill-color: #D2E3FC;\n",
              "      --hover-bg-color: #434B5C;\n",
              "      --hover-fill-color: #FFFFFF;\n",
              "      --disabled-bg-color: #3B4455;\n",
              "      --disabled-fill-color: #666;\n",
              "  }\n",
              "\n",
              "  .colab-df-quickchart {\n",
              "    background-color: var(--bg-color);\n",
              "    border: none;\n",
              "    border-radius: 50%;\n",
              "    cursor: pointer;\n",
              "    display: none;\n",
              "    fill: var(--fill-color);\n",
              "    height: 32px;\n",
              "    padding: 0;\n",
              "    width: 32px;\n",
              "  }\n",
              "\n",
              "  .colab-df-quickchart:hover {\n",
              "    background-color: var(--hover-bg-color);\n",
              "    box-shadow: 0 1px 2px rgba(60, 64, 67, 0.3), 0 1px 3px 1px rgba(60, 64, 67, 0.15);\n",
              "    fill: var(--button-hover-fill-color);\n",
              "  }\n",
              "\n",
              "  .colab-df-quickchart-complete:disabled,\n",
              "  .colab-df-quickchart-complete:disabled:hover {\n",
              "    background-color: var(--disabled-bg-color);\n",
              "    fill: var(--disabled-fill-color);\n",
              "    box-shadow: none;\n",
              "  }\n",
              "\n",
              "  .colab-df-spinner {\n",
              "    border: 2px solid var(--fill-color);\n",
              "    border-color: transparent;\n",
              "    border-bottom-color: var(--fill-color);\n",
              "    animation:\n",
              "      spin 1s steps(1) infinite;\n",
              "  }\n",
              "\n",
              "  @keyframes spin {\n",
              "    0% {\n",
              "      border-color: transparent;\n",
              "      border-bottom-color: var(--fill-color);\n",
              "      border-left-color: var(--fill-color);\n",
              "    }\n",
              "    20% {\n",
              "      border-color: transparent;\n",
              "      border-left-color: var(--fill-color);\n",
              "      border-top-color: var(--fill-color);\n",
              "    }\n",
              "    30% {\n",
              "      border-color: transparent;\n",
              "      border-left-color: var(--fill-color);\n",
              "      border-top-color: var(--fill-color);\n",
              "      border-right-color: var(--fill-color);\n",
              "    }\n",
              "    40% {\n",
              "      border-color: transparent;\n",
              "      border-right-color: var(--fill-color);\n",
              "      border-top-color: var(--fill-color);\n",
              "    }\n",
              "    60% {\n",
              "      border-color: transparent;\n",
              "      border-right-color: var(--fill-color);\n",
              "    }\n",
              "    80% {\n",
              "      border-color: transparent;\n",
              "      border-right-color: var(--fill-color);\n",
              "      border-bottom-color: var(--fill-color);\n",
              "    }\n",
              "    90% {\n",
              "      border-color: transparent;\n",
              "      border-bottom-color: var(--fill-color);\n",
              "    }\n",
              "  }\n",
              "</style>\n",
              "\n",
              "  <script>\n",
              "    async function quickchart(key) {\n",
              "      const quickchartButtonEl =\n",
              "        document.querySelector('#' + key + ' button');\n",
              "      quickchartButtonEl.disabled = true;  // To prevent multiple clicks.\n",
              "      quickchartButtonEl.classList.add('colab-df-spinner');\n",
              "      try {\n",
              "        const charts = await google.colab.kernel.invokeFunction(\n",
              "            'suggestCharts', [key], {});\n",
              "      } catch (error) {\n",
              "        console.error('Error during call to suggestCharts:', error);\n",
              "      }\n",
              "      quickchartButtonEl.classList.remove('colab-df-spinner');\n",
              "      quickchartButtonEl.classList.add('colab-df-quickchart-complete');\n",
              "    }\n",
              "    (() => {\n",
              "      let quickchartButtonEl =\n",
              "        document.querySelector('#df-0602b452-0fc2-449e-a15a-daf55f7ede5e button');\n",
              "      quickchartButtonEl.style.display =\n",
              "        google.colab.kernel.accessAllowed ? 'block' : 'none';\n",
              "    })();\n",
              "  </script>\n",
              "</div>\n",
              "\n",
              "    </div>\n",
              "  </div>\n"
            ],
            "application/vnd.google.colaboratory.intrinsic+json": {
              "type": "dataframe",
              "variable_name": "df",
              "summary": "{\n  \"name\": \"df\",\n  \"rows\": 60,\n  \"fields\": [\n    {\n      \"column\": \"Disease\",\n      \"properties\": {\n        \"dtype\": \"string\",\n        \"num_unique_values\": 59,\n        \"samples\": [\n          \"Influenza (Flu)\",\n          \"Chickenpox\",\n          \"Alzheimer's Disease\"\n        ],\n        \"semantic_type\": \"\",\n        \"description\": \"\"\n      }\n    },\n    {\n      \"column\": \"Symptoms\",\n      \"properties\": {\n        \"dtype\": \"string\",\n        \"num_unique_values\": 60,\n        \"samples\": [\n          \"Fever, cough, sore throat, runny or stuffy nose, body aches, headaches, fatigue\",\n          \"Itchy rash, fever, tiredness, loss of appetite, headache\",\n          \"Sudden numbness or weakness in the face, arm, or leg, especially on one side of the body, sudden confusion, trouble speaking, or understanding speech, sudden trouble seeing in one or both eyes, sudden trouble walking, dizziness, loss of balance or coordination, sudden severe headache with no known cause\"\n        ],\n        \"semantic_type\": \"\",\n        \"description\": \"\"\n      }\n    },\n    {\n      \"column\": \"Precautions\",\n      \"properties\": {\n        \"dtype\": \"string\",\n        \"num_unique_values\": 58,\n        \"samples\": [\n          \"Get vaccinated, wash hands frequently, avoid close contact with sick individuals, cover your mouth and nose with a tissue when coughing or sneezing\",\n          \"Get vaccinated, avoid contact with infected individuals, maintain good hygiene\",\n          \"Control high blood pressure, avoid smoking, manage diabetes, maintain a healthy weight, eat a healthy diet, exercise regularly, limit alcohol consumption\"\n        ],\n        \"semantic_type\": \"\",\n        \"description\": \"\"\n      }\n    }\n  ]\n}"
            }
          },
          "metadata": {},
          "execution_count": 81
        }
      ]
    },
    {
      "cell_type": "code",
      "source": [
        "# Encode categorical variables\n",
        "le_disease = LabelEncoder()\n",
        "df['Disease'] = le_disease.fit_transform(df['Disease'])"
      ],
      "metadata": {
        "id": "Naj7ksMxda_k"
      },
      "execution_count": null,
      "outputs": []
    },
    {
      "cell_type": "code",
      "source": [
        "mlb_symptoms = MultiLabelBinarizer()\n",
        "mlb_precautions = MultiLabelBinarizer()"
      ],
      "metadata": {
        "id": "zv3ok5z3du-U"
      },
      "execution_count": null,
      "outputs": []
    },
    {
      "cell_type": "code",
      "source": [
        "df['Symptoms'] = df['Symptoms'].apply(lambda x: x.split(','))\n",
        "\n",
        "df['Precautions'] = df['Precautions'].apply(lambda x: x.split(','))\n"
      ],
      "metadata": {
        "id": "LIW2hx2Ueg2z"
      },
      "execution_count": null,
      "outputs": []
    },
    {
      "cell_type": "code",
      "source": [
        "symptoms_encoded = mlb_symptoms.fit_transform(df['Symptoms'])\n",
        "precautions_encoded = mlb_precautions.fit_transform(df['Precautions'])"
      ],
      "metadata": {
        "id": "1ZInRhNCejSd"
      },
      "execution_count": null,
      "outputs": []
    },
    {
      "cell_type": "code",
      "source": [
        "# Split the data into features and target\n",
        "X = df[['Disease']]\n",
        "y_symptoms = pd.DataFrame(symptoms_encoded, columns=mlb_symptoms.classes_)\n",
        "y_precautions = pd.DataFrame(precautions_encoded, columns=mlb_precautions.classes_)\n"
      ],
      "metadata": {
        "id": "4VYr6HH7wKDP"
      },
      "execution_count": null,
      "outputs": []
    },
    {
      "cell_type": "code",
      "source": [
        "# Split the data into training and testing sets\n",
        "X_train, X_test, y_train_symptoms, y_test_symptoms, y_train_precautions, y_test_precautions = train_test_split(\n",
        "    X, y_symptoms, y_precautions, test_size=0.2, random_state=42)\n"
      ],
      "metadata": {
        "id": "9ffLFuZTwXQB"
      },
      "execution_count": null,
      "outputs": []
    },
    {
      "cell_type": "code",
      "source": [
        "# Model training for symptoms\n",
        "model_symptoms = RandomForestClassifier()\n",
        "model_symptoms.fit(X_train, y_train_symptoms)\n",
        "\n",
        "# Model training for precautions\n",
        "model_precautions = RandomForestClassifier()\n",
        "model_precautions.fit(X_train, y_train_precautions)\n"
      ],
      "metadata": {
        "colab": {
          "base_uri": "https://localhost:8080/",
          "height": 75
        },
        "id": "noPwM6TVwaMG",
        "outputId": "da3c05eb-3331-45f2-f5e9-fd959468f0ab"
      },
      "execution_count": null,
      "outputs": [
        {
          "output_type": "execute_result",
          "data": {
            "text/plain": [
              "RandomForestClassifier()"
            ],
            "text/html": [
              "<style>#sk-container-id-3 {color: black;background-color: white;}#sk-container-id-3 pre{padding: 0;}#sk-container-id-3 div.sk-toggleable {background-color: white;}#sk-container-id-3 label.sk-toggleable__label {cursor: pointer;display: block;width: 100%;margin-bottom: 0;padding: 0.3em;box-sizing: border-box;text-align: center;}#sk-container-id-3 label.sk-toggleable__label-arrow:before {content: \"▸\";float: left;margin-right: 0.25em;color: #696969;}#sk-container-id-3 label.sk-toggleable__label-arrow:hover:before {color: black;}#sk-container-id-3 div.sk-estimator:hover label.sk-toggleable__label-arrow:before {color: black;}#sk-container-id-3 div.sk-toggleable__content {max-height: 0;max-width: 0;overflow: hidden;text-align: left;background-color: #f0f8ff;}#sk-container-id-3 div.sk-toggleable__content pre {margin: 0.2em;color: black;border-radius: 0.25em;background-color: #f0f8ff;}#sk-container-id-3 input.sk-toggleable__control:checked~div.sk-toggleable__content {max-height: 200px;max-width: 100%;overflow: auto;}#sk-container-id-3 input.sk-toggleable__control:checked~label.sk-toggleable__label-arrow:before {content: \"▾\";}#sk-container-id-3 div.sk-estimator input.sk-toggleable__control:checked~label.sk-toggleable__label {background-color: #d4ebff;}#sk-container-id-3 div.sk-label input.sk-toggleable__control:checked~label.sk-toggleable__label {background-color: #d4ebff;}#sk-container-id-3 input.sk-hidden--visually {border: 0;clip: rect(1px 1px 1px 1px);clip: rect(1px, 1px, 1px, 1px);height: 1px;margin: -1px;overflow: hidden;padding: 0;position: absolute;width: 1px;}#sk-container-id-3 div.sk-estimator {font-family: monospace;background-color: #f0f8ff;border: 1px dotted black;border-radius: 0.25em;box-sizing: border-box;margin-bottom: 0.5em;}#sk-container-id-3 div.sk-estimator:hover {background-color: #d4ebff;}#sk-container-id-3 div.sk-parallel-item::after {content: \"\";width: 100%;border-bottom: 1px solid gray;flex-grow: 1;}#sk-container-id-3 div.sk-label:hover label.sk-toggleable__label {background-color: #d4ebff;}#sk-container-id-3 div.sk-serial::before {content: \"\";position: absolute;border-left: 1px solid gray;box-sizing: border-box;top: 0;bottom: 0;left: 50%;z-index: 0;}#sk-container-id-3 div.sk-serial {display: flex;flex-direction: column;align-items: center;background-color: white;padding-right: 0.2em;padding-left: 0.2em;position: relative;}#sk-container-id-3 div.sk-item {position: relative;z-index: 1;}#sk-container-id-3 div.sk-parallel {display: flex;align-items: stretch;justify-content: center;background-color: white;position: relative;}#sk-container-id-3 div.sk-item::before, #sk-container-id-3 div.sk-parallel-item::before {content: \"\";position: absolute;border-left: 1px solid gray;box-sizing: border-box;top: 0;bottom: 0;left: 50%;z-index: -1;}#sk-container-id-3 div.sk-parallel-item {display: flex;flex-direction: column;z-index: 1;position: relative;background-color: white;}#sk-container-id-3 div.sk-parallel-item:first-child::after {align-self: flex-end;width: 50%;}#sk-container-id-3 div.sk-parallel-item:last-child::after {align-self: flex-start;width: 50%;}#sk-container-id-3 div.sk-parallel-item:only-child::after {width: 0;}#sk-container-id-3 div.sk-dashed-wrapped {border: 1px dashed gray;margin: 0 0.4em 0.5em 0.4em;box-sizing: border-box;padding-bottom: 0.4em;background-color: white;}#sk-container-id-3 div.sk-label label {font-family: monospace;font-weight: bold;display: inline-block;line-height: 1.2em;}#sk-container-id-3 div.sk-label-container {text-align: center;}#sk-container-id-3 div.sk-container {/* jupyter's `normalize.less` sets `[hidden] { display: none; }` but bootstrap.min.css set `[hidden] { display: none !important; }` so we also need the `!important` here to be able to override the default hidden behavior on the sphinx rendered scikit-learn.org. See: https://github.com/scikit-learn/scikit-learn/issues/21755 */display: inline-block !important;position: relative;}#sk-container-id-3 div.sk-text-repr-fallback {display: none;}</style><div id=\"sk-container-id-3\" class=\"sk-top-container\"><div class=\"sk-text-repr-fallback\"><pre>RandomForestClassifier()</pre><b>In a Jupyter environment, please rerun this cell to show the HTML representation or trust the notebook. <br />On GitHub, the HTML representation is unable to render, please try loading this page with nbviewer.org.</b></div><div class=\"sk-container\" hidden><div class=\"sk-item\"><div class=\"sk-estimator sk-toggleable\"><input class=\"sk-toggleable__control sk-hidden--visually\" id=\"sk-estimator-id-3\" type=\"checkbox\" checked><label for=\"sk-estimator-id-3\" class=\"sk-toggleable__label sk-toggleable__label-arrow\">RandomForestClassifier</label><div class=\"sk-toggleable__content\"><pre>RandomForestClassifier()</pre></div></div></div></div></div>"
            ]
          },
          "metadata": {},
          "execution_count": 90
        }
      ]
    },
    {
      "cell_type": "code",
      "source": [
        "# Predictions\n",
        "y_pred_symptoms = model_symptoms.predict(X_test)\n",
        "y_pred_precautions = model_precautions.predict(X_test)\n"
      ],
      "metadata": {
        "id": "TGaTo_FTwmND"
      },
      "execution_count": null,
      "outputs": []
    },
    {
      "cell_type": "code",
      "source": [
        "# Evaluation\n",
        "precision_symptoms = precision_score(y_test_symptoms, y_pred_symptoms, average='macro', zero_division=1)\n",
        "recall_symptoms = recall_score(y_test_symptoms, y_pred_symptoms, average='macro', zero_division=1)\n",
        "f1_symptoms = f1_score(y_test_symptoms, y_pred_symptoms, average='macro', zero_division=1)\n",
        "\n",
        "precision_precautions = precision_score(y_test_precautions, y_pred_precautions, average='macro', zero_division=1)\n",
        "recall_precautions = recall_score(y_test_precautions, y_pred_precautions, average='macro', zero_division=1)\n",
        "f1_precautions = f1_score(y_test_precautions, y_pred_precautions, average='macro', zero_division=1)\n",
        "\n",
        "print(f'Symptoms - Precision: {precision_symptoms}, Recall: {recall_symptoms}, F1-score: {f1_symptoms}')\n",
        "print(f'Precautions - Precision: {precision_precautions}, Recall: {recall_precautions}, F1-score: {f1_precautions}')"
      ],
      "metadata": {
        "colab": {
          "base_uri": "https://localhost:8080/"
        },
        "id": "fpseWmU8wohQ",
        "outputId": "a5f56e1c-af7d-442c-83ef-e124e904c334"
      },
      "execution_count": null,
      "outputs": [
        {
          "output_type": "stream",
          "name": "stdout",
          "text": [
            "Symptoms - Precision: 0.7907237152286658, Recall: 0.7392739273927392, F1-score: 0.5639006757818639\n",
            "Precautions - Precision: 0.7836879432624113, Recall: 0.7695035460992907, F1-score: 0.5921985815602837\n"
          ]
        }
      ]
    },
    {
      "cell_type": "code",
      "source": [
        "# Cross-validation\n",
        "cv_scores_symptoms = cross_val_score(model_symptoms, X, symptoms_encoded, cv=5, scoring='f1_macro')\n",
        "cv_scores_precautions = cross_val_score(model_precautions, X, precautions_encoded, cv=5, scoring='f1_macro')\n",
        "\n",
        "print(f'Cross-validated F1-scores for symptoms prediction: {cv_scores_symptoms}')\n",
        "print(f'Cross-validated F1-scores for precautions prediction: {cv_scores_precautions}')"
      ],
      "metadata": {
        "colab": {
          "base_uri": "https://localhost:8080/"
        },
        "id": "HhlubB21w2XG",
        "outputId": "58a57b40-a00f-47c4-9942-3ca205bea554"
      },
      "execution_count": null,
      "outputs": [
        {
          "output_type": "stream",
          "name": "stdout",
          "text": [
            "Cross-validated F1-scores for symptoms prediction: [0.0111504  0.00733573 0.00966525 0.01922442 0.0049505 ]\n",
            "Cross-validated F1-scores for precautions prediction: [0.01384667 0.00413712 0.01040189 0.00641675 0.        ]\n"
          ]
        }
      ]
    },
    {
      "cell_type": "code",
      "source": [
        "# Function to make predictions\n",
        "def predict_symptoms_precautions(disease_name):\n",
        "    try:\n",
        "        disease_encoded = le_disease.transform([disease_name])\n",
        "        symptoms_encoded = model_symptoms.predict([disease_encoded])\n",
        "        precautions_encoded = model_precautions.predict([disease_encoded])\n",
        "\n",
        "        symptoms = mlb_symptoms.inverse_transform(symptoms_encoded)\n",
        "        precautions = mlb_precautions.inverse_transform(precautions_encoded)\n",
        "\n",
        "        return symptoms[0], precautions[0]\n",
        "    except ValueError as e:\n",
        "        return str(e), str(e)"
      ],
      "metadata": {
        "id": "LIi9GX9lxAGe"
      },
      "execution_count": null,
      "outputs": []
    },
    {
      "cell_type": "code",
      "source": [
        "# Example prediction\n",
        "example_disease = 'Diabetes'\n",
        "predicted_symptoms, predicted_precautions = predict_symptoms_precautions(example_disease)\n",
        "print(f'Predicted symptoms for {example_disease}: {predicted_symptoms}')\n",
        "print(f'Predicted precautions for {example_disease}: {predicted_precautions}')"
      ],
      "metadata": {
        "colab": {
          "base_uri": "https://localhost:8080/"
        },
        "id": "tn744jTYxHkx",
        "outputId": "8da32167-46a5-4c0f-a92b-9c3e19663a4b"
      },
      "execution_count": null,
      "outputs": [
        {
          "output_type": "stream",
          "name": "stdout",
          "text": [
            "Predicted symptoms for Diabetes: (' blurry vision', ' extreme fatigue', ' frequent urination', ' slow-healing sores', 'Increased thirst')\n",
            "Predicted precautions for Diabetes: (' exercise regularly', ' monitor blood sugar levels', ' take prescribed medications', 'Maintain a healthy diet')\n"
          ]
        }
      ]
    },
    {
      "cell_type": "markdown",
      "source": [
        "Save the models using pickle"
      ],
      "metadata": {
        "id": "NH44Uz3ryehB"
      }
    },
    {
      "cell_type": "code",
      "source": [
        "with open('model_symptoms.pkl', 'wb') as f:\n",
        "    pickle.dump(model_symptoms, f)\n",
        "\n",
        "with open('model_precautions.pkl', 'wb') as f:\n",
        "    pickle.dump(model_precautions, f)\n",
        "\n",
        "with open('le_disease.pkl', 'wb') as f:\n",
        "    pickle.dump(le_disease, f)\n",
        "\n",
        "with open('mlb_symptoms.pkl', 'wb') as f:\n",
        "    pickle.dump(mlb_symptoms, f)\n",
        "\n",
        "with open('mlb_precautions.pkl', 'wb') as f:\n",
        "    pickle.dump(mlb_precautions, f)"
      ],
      "metadata": {
        "id": "vDBhEkmuyigg"
      },
      "execution_count": null,
      "outputs": []
    },
    {
      "cell_type": "code",
      "source": [
        "# Load the models using pickle\n",
        "def load_models():\n",
        "    with open('model_symptoms.pkl', 'rb') as f:\n",
        "        model_symptoms = pickle.load(f)\n",
        "    with open('model_precautions.pkl', 'rb') as f:\n",
        "        model_precautions = pickle.load(f)\n",
        "    with open('le_disease.pkl', 'rb') as f:\n",
        "        le_disease = pickle.load(f)\n",
        "    with open('mlb_symptoms.pkl', 'rb') as f:\n",
        "        mlb_symptoms = pickle.load(f)\n",
        "    with open('mlb_precautions.pkl', 'rb') as f:\n",
        "        mlb_precautions = pickle.load(f)\n",
        "    return model_symptoms, model_precautions, le_disease, mlb_symptoms, mlb_precautions\n"
      ],
      "metadata": {
        "id": "UDOyEWOKytEr"
      },
      "execution_count": null,
      "outputs": []
    }
  ]
}
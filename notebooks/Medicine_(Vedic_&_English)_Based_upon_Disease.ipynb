{
 "cells": [
  {
   "cell_type": "markdown",
   "metadata": {
    "colab_type": "text",
    "id": "view-in-github"
   },
   "source": [
    "<a href=\"https://colab.research.google.com/github/shruti629/Deep-Health-Analysis-and-Disease-Prediction/blob/main/Medicine_(Vedic_%26_English)_Based_upon_Disease.ipynb\" target=\"_parent\"><img src=\"https://colab.research.google.com/assets/colab-badge.svg\" alt=\"Open In Colab\"/></a>"
   ]
  },
  {
   "cell_type": "code",
   "execution_count": 6,
   "metadata": {
    "id": "l4BkL0mhahrD"
   },
   "outputs": [],
   "source": [
    "import pandas as pd\n",
    "import numpy as np\n",
    "from sklearn.model_selection import train_test_split, cross_val_score, StratifiedKFold\n",
    "from sklearn.preprocessing import LabelEncoder\n",
    "from sklearn.ensemble import RandomForestClassifier\n",
    "from sklearn.linear_model import LogisticRegression\n",
    "from sklearn.metrics import precision_score, recall_score, f1_score\n",
    "from imblearn.over_sampling import RandomOverSampler\n",
    "import pickle\n",
    "import warnings\n",
    "warnings.filterwarnings(action='ignore')"
   ]
  },
  {
   "cell_type": "code",
   "execution_count": 7,
   "metadata": {},
   "outputs": [],
   "source": [
    "from pathlib import Path\n",
    "import pandas as pd\n",
    "\n",
    "# Use raw string to prevent escape sequence issues\n",
    "path = Path(r\"D:\\Deep-Health-Analysis-and-Disease-Prediction\\notebooks\\data\\diseases_medicine.csv\")\n",
    "rd = pd.read_csv(path)"
   ]
  },
  {
   "cell_type": "code",
   "execution_count": 8,
   "metadata": {
    "id": "i0FQ30rfdmth"
   },
   "outputs": [],
   "source": [
    "# Encode categorical variables\n",
    "le_disease = LabelEncoder()\n",
    "le_type = LabelEncoder()\n",
    "le_english_medicine = LabelEncoder()\n",
    "le_vedic_medicine = LabelEncoder()\n",
    "\n",
    "rd['Disease'] = le_disease.fit_transform(rd['Disease'])\n",
    "rd['Type'] = le_type.fit_transform(rd['Type'])\n",
    "rd['English Medicine'] = le_english_medicine.fit_transform(rd['English Medicine'])\n",
    "rd['Vedic Medicine'] = le_vedic_medicine.fit_transform(rd['Vedic Medicine'])\n"
   ]
  },
  {
   "cell_type": "code",
   "execution_count": 9,
   "metadata": {
    "id": "7eeEHNZpeEX6"
   },
   "outputs": [],
   "source": [
    "# Split the data into features and target\n",
    "X = rd[['Disease', 'Type']]\n",
    "y_english_medicine = rd['English Medicine']\n",
    "y_vedic_medicine = rd['Vedic Medicine']"
   ]
  },
  {
   "cell_type": "code",
   "execution_count": 10,
   "metadata": {
    "colab": {
     "base_uri": "https://localhost:8080/"
    },
    "id": "ZFYo-MY1mird",
    "outputId": "efc3cacf-0752-4e18-bab6-c7a31d57dd45"
   },
   "outputs": [
    {
     "name": "stdout",
     "output_type": "stream",
     "text": [
      "English Medicine\n",
      "12    3\n",
      "7     3\n",
      "37    2\n",
      "47    1\n",
      "43    1\n",
      "     ..\n",
      "75    1\n",
      "61    1\n",
      "80    1\n",
      "81    1\n",
      "93    1\n",
      "Name: count, Length: 94, dtype: int64\n",
      "Vedic Medicine\n",
      "33    6\n",
      "55    4\n",
      "7     2\n",
      "43    2\n",
      "68    2\n",
      "     ..\n",
      "80    1\n",
      "74    1\n",
      "70    1\n",
      "49    1\n",
      "84    1\n",
      "Name: count, Length: 85, dtype: int64\n"
     ]
    }
   ],
   "source": [
    "# Check class distribution\n",
    "print(y_english_medicine.value_counts())\n",
    "print(y_vedic_medicine.value_counts())"
   ]
  },
  {
   "cell_type": "code",
   "execution_count": 11,
   "metadata": {
    "id": "Hr7ndTH3shq6"
   },
   "outputs": [],
   "source": [
    "# Address class imbalance using RandomOverSampler\n",
    "ros = RandomOverSampler(random_state=42)\n",
    "X_resampled_english, y_resampled_english = ros.fit_resample(X, y_english_medicine)\n",
    "X_resampled_vedic, y_resampled_vedic = ros.fit_resample(X, y_vedic_medicine)"
   ]
  },
  {
   "cell_type": "code",
   "execution_count": 12,
   "metadata": {
    "id": "ROTWSbD1tMpL"
   },
   "outputs": [],
   "source": [
    "# Split the data into training and testing sets\n",
    "X_train_eng, X_test_eng, y_train_eng, y_test_eng = train_test_split(X_resampled_english, y_resampled_english, test_size=0.2, random_state=42)\n",
    "X_train_vedic, X_test_vedic, y_train_vedic, y_test_vedic = train_test_split(X_resampled_vedic, y_resampled_vedic, test_size=0.2, random_state=42)"
   ]
  },
  {
   "cell_type": "code",
   "execution_count": 13,
   "metadata": {
    "id": "8xJ1cFbksyPq"
   },
   "outputs": [],
   "source": [
    "models = {\n",
    "    'RandomForest': RandomForestClassifier(),\n",
    "    'LogisticRegression': LogisticRegression(max_iter=1000)\n",
    "}\n",
    "\n",
    "best_model_english = None\n",
    "best_score_english = 0\n",
    "best_model_vedic = None\n",
    "best_score_vedic = 0"
   ]
  },
  {
   "cell_type": "code",
   "execution_count": 14,
   "metadata": {
    "colab": {
     "base_uri": "https://localhost:8080/"
    },
    "id": "pMgG0Xoqs09S",
    "outputId": "b57b819b-2747-4ace-f747-5c8fef976b8f"
   },
   "outputs": [
    {
     "name": "stdout",
     "output_type": "stream",
     "text": [
      "F1-score for RandomForest (English medicine): 0.8823529411764706\n",
      "F1-score for RandomForest (Vedic medicine): 0.9722222222222221\n",
      "F1-score for LogisticRegression (English medicine): 0.15023474178403756\n",
      "F1-score for LogisticRegression (Vedic medicine): 0.38268983268983264\n"
     ]
    }
   ],
   "source": [
    "for model_name, model in models.items():\n",
    "    # English medicine prediction\n",
    "    model.fit(X_train_eng, y_train_eng)\n",
    "    y_pred_eng = model.predict(X_test_eng)\n",
    "    f1_eng = f1_score(y_test_eng, y_pred_eng, average='macro', zero_division=1)\n",
    "    print(f'F1-score for {model_name} (English medicine): {f1_eng}')\n",
    "    if f1_eng > best_score_english:\n",
    "        best_score_english = f1_eng\n",
    "        best_model_english = model\n",
    "\n",
    "    # Vedic medicine prediction\n",
    "    model.fit(X_train_vedic, y_train_vedic)\n",
    "    y_pred_vedic = model.predict(X_test_vedic)\n",
    "    f1_vedic = f1_score(y_test_vedic, y_pred_vedic, average='macro', zero_division=1)\n",
    "    print(f'F1-score for {model_name} (Vedic medicine): {f1_vedic}')\n",
    "    if f1_vedic > best_score_vedic:\n",
    "        best_score_vedic = f1_vedic\n",
    "        best_model_vedic = model\n"
   ]
  },
  {
   "cell_type": "code",
   "execution_count": 15,
   "metadata": {
    "id": "jrnHC9w1tdmC"
   },
   "outputs": [],
   "source": [
    "# Function to make predictions\n",
    "def predict_medicine(disease_name, disease_type):\n",
    "    try:\n",
    "        disease_name = disease_name.strip()\n",
    "        disease_type = disease_type.strip()\n",
    "\n",
    "        if disease_name not in le_disease.classes_ or disease_type not in le_type.classes_:\n",
    "            raise ValueError(f\"Invalid input: {disease_name} or {disease_type} is not in the label encoders' classes\")\n",
    "\n",
    "        disease_encoded = le_disease.transform([disease_name])\n",
    "        type_encoded = le_type.transform([disease_type])\n",
    "        features = [[disease_encoded[0], type_encoded[0]]]\n",
    "\n",
    "        english_medicine_encoded = best_model_english.predict(features)\n",
    "        vedic_medicine_encoded = best_model_vedic.predict(features)\n",
    "\n",
    "\n",
    "        english_medicine = le_english_medicine.inverse_transform(english_medicine_encoded)\n",
    "        vedic_medicine = le_vedic_medicine.inverse_transform(vedic_medicine_encoded)\n",
    "\n",
    "        return english_medicine[0], vedic_medicine[0]\n",
    "    except ValueError as e:\n",
    "        return str(e), str(e)"
   ]
  },
  {
   "cell_type": "code",
   "execution_count": 16,
   "metadata": {
    "colab": {
     "base_uri": "https://localhost:8080/"
    },
    "id": "-dhbyUfJti4y",
    "outputId": "f3a334bb-3f92-4a6e-f3fb-7fd2d44aa3b0"
   },
   "outputs": [
    {
     "name": "stdout",
     "output_type": "stream",
     "text": [
      "Predicted English medicine for Hypertension (Chronic\t): Levodopa, Dopamine agonists\n",
      "Predicted Vedic medicine for Hypertension (Chronic\t): Sarpagandha, Ashwagandha\n"
     ]
    }
   ],
   "source": [
    "# Example prediction\n",
    "example_disease = 'Hypertension'\n",
    "example_type = 'Chronic\t'\n",
    "predicted_english_medicine, predicted_vedic_medicine = predict_medicine(example_disease, example_type)\n",
    "print(f'Predicted English medicine for {example_disease} ({example_type}): {predicted_english_medicine}')\n",
    "print(f'Predicted Vedic medicine for {example_disease} ({example_type}): {predicted_vedic_medicine}')"
   ]
  },
  {
   "cell_type": "code",
   "execution_count": 17,
   "metadata": {
    "id": "8hbI-j5PtpVh"
   },
   "outputs": [],
   "source": [
    "# Save the best models using pickle\n",
    "with open('best_model_english.pkl', 'wb') as f:\n",
    "    pickle.dump(best_model_english, f)\n",
    "\n",
    "with open('best_model_vedic.pkl', 'wb') as f:\n",
    "    pickle.dump(best_model_vedic, f)\n",
    "\n",
    "with open('le_disease.pkl', 'wb') as f:\n",
    "    pickle.dump(le_disease, f)\n",
    "\n",
    "with open('le_type.pkl', 'wb') as f:\n",
    "    pickle.dump(le_type, f)\n",
    "\n",
    "with open('le_english_medicine.pkl', 'wb') as f:\n",
    "    pickle.dump(le_english_medicine, f)\n",
    "\n",
    "with open('le_vedic_medicine.pkl', 'wb') as f:\n",
    "    pickle.dump(le_vedic_medicine, f)"
   ]
  },
  {
   "cell_type": "code",
   "execution_count": 18,
   "metadata": {
    "id": "P2INzl92twDK"
   },
   "outputs": [],
   "source": [
    "# Load the best models using pickle\n",
    "def load_models():\n",
    "    with open('best_model_english.pkl', 'rb') as f:\n",
    "        best_model_english = pickle.load(f)\n",
    "    with open('best_model_vedic.pkl', 'rb') as f:\n",
    "        best_model_vedic = pickle.load(f)\n",
    "    with open('le_disease.pkl', 'rb') as f:\n",
    "        le_disease = pickle.load(f)\n",
    "    with open('le_type.pkl', 'rb') as f:\n",
    "        le_type = pickle.load(f)\n",
    "    with open('le_english_medicine.pkl', 'rb') as f:\n",
    "        le_english_medicine = pickle.load(f)\n",
    "    with open('le_vedic_medicine.pkl', 'rb') as f:\n",
    "        le_vedic_medicine = pickle.load(f)\n",
    "    return best_model_english, best_model_vedic, le_disease, le_type, le_english_medicine, le_vedic_medicine\n",
    "\n",
    "best_model_english, best_model_vedic, le_disease, le_type, le_english_medicine, le_vedic_medicine = load_models()\n"
   ]
  }
 ],
 "metadata": {
  "colab": {
   "authorship_tag": "ABX9TyPFrqbHDUF5rn9f70vrvi9/",
   "include_colab_link": true,
   "mount_file_id": "1JMb7OHrj5H1nSsTZyXRw9tTlXCFLmdwE",
   "provenance": []
  },
  "kernelspec": {
   "display_name": "Python 3",
   "name": "python3"
  },
  "language_info": {
   "codemirror_mode": {
    "name": "ipython",
    "version": 3
   },
   "file_extension": ".py",
   "mimetype": "text/x-python",
   "name": "python",
   "nbconvert_exporter": "python",
   "pygments_lexer": "ipython3",
   "version": "3.8.20"
  }
 },
 "nbformat": 4,
 "nbformat_minor": 0
}

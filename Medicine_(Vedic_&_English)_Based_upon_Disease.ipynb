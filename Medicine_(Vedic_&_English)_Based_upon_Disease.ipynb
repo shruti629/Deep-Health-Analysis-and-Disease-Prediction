{
  "nbformat": 4,
  "nbformat_minor": 0,
  "metadata": {
    "colab": {
      "provenance": [],
      "mount_file_id": "1JMb7OHrj5H1nSsTZyXRw9tTlXCFLmdwE",
      "authorship_tag": "ABX9TyPFrqbHDUF5rn9f70vrvi9/",
      "include_colab_link": true
    },
    "kernelspec": {
      "name": "python3",
      "display_name": "Python 3"
    },
    "language_info": {
      "name": "python"
    }
  },
  "cells": [
    {
      "cell_type": "markdown",
      "metadata": {
        "id": "view-in-github",
        "colab_type": "text"
      },
      "source": [
        "<a href=\"https://colab.research.google.com/github/shruti629/Deep-Health-Analysis-and-Disease-Prediction/blob/main/Medicine_(Vedic_%26_English)_Based_upon_Disease.ipynb\" target=\"_parent\"><img src=\"https://colab.research.google.com/assets/colab-badge.svg\" alt=\"Open In Colab\"/></a>"
      ]
    },
    {
      "cell_type": "code",
      "execution_count": null,
      "metadata": {
        "id": "l4BkL0mhahrD"
      },
      "outputs": [],
      "source": [
        "import pandas as pd\n",
        "import numpy as np\n",
        "from sklearn.model_selection import train_test_split, cross_val_score, StratifiedKFold\n",
        "from sklearn.preprocessing import LabelEncoder\n",
        "from sklearn.ensemble import RandomForestClassifier\n",
        "from sklearn.linear_model import LogisticRegression\n",
        "from sklearn.metrics import precision_score, recall_score, f1_score\n",
        "from imblearn.over_sampling import RandomOverSampler\n",
        "import pickle\n",
        "import warnings\n",
        "warnings.filterwarnings(action='ignore')"
      ]
    },
    {
      "cell_type": "code",
      "source": [
        "rd=pd.read_csv('/content/drive/MyDrive/diseases_medicine.csv')\n",
        "rd.head()"
      ],
      "metadata": {
        "colab": {
          "base_uri": "https://localhost:8080/",
          "height": 206
        },
        "id": "xyUa7bM9bC26",
        "outputId": "3cc8bc31-7f64-463f-ab44-c22203e08079"
      },
      "execution_count": null,
      "outputs": [
        {
          "output_type": "execute_result",
          "data": {
            "text/plain": [
              "        Disease     Type                        English Medicine  \\\n",
              "0      Diabetes  Chronic                      Metformin, Insulin   \n",
              "1  Hypertension  Chronic           ACE inhibitors, Beta-blockers   \n",
              "2        Asthma  Chronic  Inhaled corticosteroids, Beta agonists   \n",
              "3     Arthritis  Chronic                          NSAIDs, DMARDs   \n",
              "4    Depression   Mental                            SSRIs, SNRIs   \n",
              "\n",
              "                        Vedic Medicine  Unnamed: 4  \n",
              "0  Bitter gourd juice, Fenugreek seeds         NaN  \n",
              "1             Sarpagandha, Ashwagandha         NaN  \n",
              "2                 Tulsi, Licorice root         NaN  \n",
              "3                     Ginger, Turmeric         NaN  \n",
              "4                  Brahmi, Ashwagandha         NaN  "
            ],
            "text/html": [
              "\n",
              "  <div id=\"df-56fe2452-741f-480b-83b8-ddb089f1a612\" class=\"colab-df-container\">\n",
              "    <div>\n",
              "<style scoped>\n",
              "    .dataframe tbody tr th:only-of-type {\n",
              "        vertical-align: middle;\n",
              "    }\n",
              "\n",
              "    .dataframe tbody tr th {\n",
              "        vertical-align: top;\n",
              "    }\n",
              "\n",
              "    .dataframe thead th {\n",
              "        text-align: right;\n",
              "    }\n",
              "</style>\n",
              "<table border=\"1\" class=\"dataframe\">\n",
              "  <thead>\n",
              "    <tr style=\"text-align: right;\">\n",
              "      <th></th>\n",
              "      <th>Disease</th>\n",
              "      <th>Type</th>\n",
              "      <th>English Medicine</th>\n",
              "      <th>Vedic Medicine</th>\n",
              "      <th>Unnamed: 4</th>\n",
              "    </tr>\n",
              "  </thead>\n",
              "  <tbody>\n",
              "    <tr>\n",
              "      <th>0</th>\n",
              "      <td>Diabetes</td>\n",
              "      <td>Chronic</td>\n",
              "      <td>Metformin, Insulin</td>\n",
              "      <td>Bitter gourd juice, Fenugreek seeds</td>\n",
              "      <td>NaN</td>\n",
              "    </tr>\n",
              "    <tr>\n",
              "      <th>1</th>\n",
              "      <td>Hypertension</td>\n",
              "      <td>Chronic</td>\n",
              "      <td>ACE inhibitors, Beta-blockers</td>\n",
              "      <td>Sarpagandha, Ashwagandha</td>\n",
              "      <td>NaN</td>\n",
              "    </tr>\n",
              "    <tr>\n",
              "      <th>2</th>\n",
              "      <td>Asthma</td>\n",
              "      <td>Chronic</td>\n",
              "      <td>Inhaled corticosteroids, Beta agonists</td>\n",
              "      <td>Tulsi, Licorice root</td>\n",
              "      <td>NaN</td>\n",
              "    </tr>\n",
              "    <tr>\n",
              "      <th>3</th>\n",
              "      <td>Arthritis</td>\n",
              "      <td>Chronic</td>\n",
              "      <td>NSAIDs, DMARDs</td>\n",
              "      <td>Ginger, Turmeric</td>\n",
              "      <td>NaN</td>\n",
              "    </tr>\n",
              "    <tr>\n",
              "      <th>4</th>\n",
              "      <td>Depression</td>\n",
              "      <td>Mental</td>\n",
              "      <td>SSRIs, SNRIs</td>\n",
              "      <td>Brahmi, Ashwagandha</td>\n",
              "      <td>NaN</td>\n",
              "    </tr>\n",
              "  </tbody>\n",
              "</table>\n",
              "</div>\n",
              "    <div class=\"colab-df-buttons\">\n",
              "\n",
              "  <div class=\"colab-df-container\">\n",
              "    <button class=\"colab-df-convert\" onclick=\"convertToInteractive('df-56fe2452-741f-480b-83b8-ddb089f1a612')\"\n",
              "            title=\"Convert this dataframe to an interactive table.\"\n",
              "            style=\"display:none;\">\n",
              "\n",
              "  <svg xmlns=\"http://www.w3.org/2000/svg\" height=\"24px\" viewBox=\"0 -960 960 960\">\n",
              "    <path d=\"M120-120v-720h720v720H120Zm60-500h600v-160H180v160Zm220 220h160v-160H400v160Zm0 220h160v-160H400v160ZM180-400h160v-160H180v160Zm440 0h160v-160H620v160ZM180-180h160v-160H180v160Zm440 0h160v-160H620v160Z\"/>\n",
              "  </svg>\n",
              "    </button>\n",
              "\n",
              "  <style>\n",
              "    .colab-df-container {\n",
              "      display:flex;\n",
              "      gap: 12px;\n",
              "    }\n",
              "\n",
              "    .colab-df-convert {\n",
              "      background-color: #E8F0FE;\n",
              "      border: none;\n",
              "      border-radius: 50%;\n",
              "      cursor: pointer;\n",
              "      display: none;\n",
              "      fill: #1967D2;\n",
              "      height: 32px;\n",
              "      padding: 0 0 0 0;\n",
              "      width: 32px;\n",
              "    }\n",
              "\n",
              "    .colab-df-convert:hover {\n",
              "      background-color: #E2EBFA;\n",
              "      box-shadow: 0px 1px 2px rgba(60, 64, 67, 0.3), 0px 1px 3px 1px rgba(60, 64, 67, 0.15);\n",
              "      fill: #174EA6;\n",
              "    }\n",
              "\n",
              "    .colab-df-buttons div {\n",
              "      margin-bottom: 4px;\n",
              "    }\n",
              "\n",
              "    [theme=dark] .colab-df-convert {\n",
              "      background-color: #3B4455;\n",
              "      fill: #D2E3FC;\n",
              "    }\n",
              "\n",
              "    [theme=dark] .colab-df-convert:hover {\n",
              "      background-color: #434B5C;\n",
              "      box-shadow: 0px 1px 3px 1px rgba(0, 0, 0, 0.15);\n",
              "      filter: drop-shadow(0px 1px 2px rgba(0, 0, 0, 0.3));\n",
              "      fill: #FFFFFF;\n",
              "    }\n",
              "  </style>\n",
              "\n",
              "    <script>\n",
              "      const buttonEl =\n",
              "        document.querySelector('#df-56fe2452-741f-480b-83b8-ddb089f1a612 button.colab-df-convert');\n",
              "      buttonEl.style.display =\n",
              "        google.colab.kernel.accessAllowed ? 'block' : 'none';\n",
              "\n",
              "      async function convertToInteractive(key) {\n",
              "        const element = document.querySelector('#df-56fe2452-741f-480b-83b8-ddb089f1a612');\n",
              "        const dataTable =\n",
              "          await google.colab.kernel.invokeFunction('convertToInteractive',\n",
              "                                                    [key], {});\n",
              "        if (!dataTable) return;\n",
              "\n",
              "        const docLinkHtml = 'Like what you see? Visit the ' +\n",
              "          '<a target=\"_blank\" href=https://colab.research.google.com/notebooks/data_table.ipynb>data table notebook</a>'\n",
              "          + ' to learn more about interactive tables.';\n",
              "        element.innerHTML = '';\n",
              "        dataTable['output_type'] = 'display_data';\n",
              "        await google.colab.output.renderOutput(dataTable, element);\n",
              "        const docLink = document.createElement('div');\n",
              "        docLink.innerHTML = docLinkHtml;\n",
              "        element.appendChild(docLink);\n",
              "      }\n",
              "    </script>\n",
              "  </div>\n",
              "\n",
              "\n",
              "<div id=\"df-eab062d8-847c-4f9c-9c03-27f24f89bde5\">\n",
              "  <button class=\"colab-df-quickchart\" onclick=\"quickchart('df-eab062d8-847c-4f9c-9c03-27f24f89bde5')\"\n",
              "            title=\"Suggest charts\"\n",
              "            style=\"display:none;\">\n",
              "\n",
              "<svg xmlns=\"http://www.w3.org/2000/svg\" height=\"24px\"viewBox=\"0 0 24 24\"\n",
              "     width=\"24px\">\n",
              "    <g>\n",
              "        <path d=\"M19 3H5c-1.1 0-2 .9-2 2v14c0 1.1.9 2 2 2h14c1.1 0 2-.9 2-2V5c0-1.1-.9-2-2-2zM9 17H7v-7h2v7zm4 0h-2V7h2v10zm4 0h-2v-4h2v4z\"/>\n",
              "    </g>\n",
              "</svg>\n",
              "  </button>\n",
              "\n",
              "<style>\n",
              "  .colab-df-quickchart {\n",
              "      --bg-color: #E8F0FE;\n",
              "      --fill-color: #1967D2;\n",
              "      --hover-bg-color: #E2EBFA;\n",
              "      --hover-fill-color: #174EA6;\n",
              "      --disabled-fill-color: #AAA;\n",
              "      --disabled-bg-color: #DDD;\n",
              "  }\n",
              "\n",
              "  [theme=dark] .colab-df-quickchart {\n",
              "      --bg-color: #3B4455;\n",
              "      --fill-color: #D2E3FC;\n",
              "      --hover-bg-color: #434B5C;\n",
              "      --hover-fill-color: #FFFFFF;\n",
              "      --disabled-bg-color: #3B4455;\n",
              "      --disabled-fill-color: #666;\n",
              "  }\n",
              "\n",
              "  .colab-df-quickchart {\n",
              "    background-color: var(--bg-color);\n",
              "    border: none;\n",
              "    border-radius: 50%;\n",
              "    cursor: pointer;\n",
              "    display: none;\n",
              "    fill: var(--fill-color);\n",
              "    height: 32px;\n",
              "    padding: 0;\n",
              "    width: 32px;\n",
              "  }\n",
              "\n",
              "  .colab-df-quickchart:hover {\n",
              "    background-color: var(--hover-bg-color);\n",
              "    box-shadow: 0 1px 2px rgba(60, 64, 67, 0.3), 0 1px 3px 1px rgba(60, 64, 67, 0.15);\n",
              "    fill: var(--button-hover-fill-color);\n",
              "  }\n",
              "\n",
              "  .colab-df-quickchart-complete:disabled,\n",
              "  .colab-df-quickchart-complete:disabled:hover {\n",
              "    background-color: var(--disabled-bg-color);\n",
              "    fill: var(--disabled-fill-color);\n",
              "    box-shadow: none;\n",
              "  }\n",
              "\n",
              "  .colab-df-spinner {\n",
              "    border: 2px solid var(--fill-color);\n",
              "    border-color: transparent;\n",
              "    border-bottom-color: var(--fill-color);\n",
              "    animation:\n",
              "      spin 1s steps(1) infinite;\n",
              "  }\n",
              "\n",
              "  @keyframes spin {\n",
              "    0% {\n",
              "      border-color: transparent;\n",
              "      border-bottom-color: var(--fill-color);\n",
              "      border-left-color: var(--fill-color);\n",
              "    }\n",
              "    20% {\n",
              "      border-color: transparent;\n",
              "      border-left-color: var(--fill-color);\n",
              "      border-top-color: var(--fill-color);\n",
              "    }\n",
              "    30% {\n",
              "      border-color: transparent;\n",
              "      border-left-color: var(--fill-color);\n",
              "      border-top-color: var(--fill-color);\n",
              "      border-right-color: var(--fill-color);\n",
              "    }\n",
              "    40% {\n",
              "      border-color: transparent;\n",
              "      border-right-color: var(--fill-color);\n",
              "      border-top-color: var(--fill-color);\n",
              "    }\n",
              "    60% {\n",
              "      border-color: transparent;\n",
              "      border-right-color: var(--fill-color);\n",
              "    }\n",
              "    80% {\n",
              "      border-color: transparent;\n",
              "      border-right-color: var(--fill-color);\n",
              "      border-bottom-color: var(--fill-color);\n",
              "    }\n",
              "    90% {\n",
              "      border-color: transparent;\n",
              "      border-bottom-color: var(--fill-color);\n",
              "    }\n",
              "  }\n",
              "</style>\n",
              "\n",
              "  <script>\n",
              "    async function quickchart(key) {\n",
              "      const quickchartButtonEl =\n",
              "        document.querySelector('#' + key + ' button');\n",
              "      quickchartButtonEl.disabled = true;  // To prevent multiple clicks.\n",
              "      quickchartButtonEl.classList.add('colab-df-spinner');\n",
              "      try {\n",
              "        const charts = await google.colab.kernel.invokeFunction(\n",
              "            'suggestCharts', [key], {});\n",
              "      } catch (error) {\n",
              "        console.error('Error during call to suggestCharts:', error);\n",
              "      }\n",
              "      quickchartButtonEl.classList.remove('colab-df-spinner');\n",
              "      quickchartButtonEl.classList.add('colab-df-quickchart-complete');\n",
              "    }\n",
              "    (() => {\n",
              "      let quickchartButtonEl =\n",
              "        document.querySelector('#df-eab062d8-847c-4f9c-9c03-27f24f89bde5 button');\n",
              "      quickchartButtonEl.style.display =\n",
              "        google.colab.kernel.accessAllowed ? 'block' : 'none';\n",
              "    })();\n",
              "  </script>\n",
              "</div>\n",
              "\n",
              "    </div>\n",
              "  </div>\n"
            ],
            "application/vnd.google.colaboratory.intrinsic+json": {
              "type": "dataframe",
              "variable_name": "rd",
              "summary": "{\n  \"name\": \"rd\",\n  \"rows\": 99,\n  \"fields\": [\n    {\n      \"column\": \"Disease\",\n      \"properties\": {\n        \"dtype\": \"string\",\n        \"num_unique_values\": 98,\n        \"samples\": [\n          \"Ingrown Toenail\",\n          \"Conjunctivitis\",\n          \"Allergic Rhinitis\"\n        ],\n        \"semantic_type\": \"\",\n        \"description\": \"\"\n      }\n    },\n    {\n      \"column\": \"Type\",\n      \"properties\": {\n        \"dtype\": \"category\",\n        \"num_unique_values\": 29,\n        \"samples\": [\n          \" Respiratory\",\n          \" Musculoskeletal\",\n          \" Infectious\"\n        ],\n        \"semantic_type\": \"\",\n        \"description\": \"\"\n      }\n    },\n    {\n      \"column\": \"English Medicine\",\n      \"properties\": {\n        \"dtype\": \"string\",\n        \"num_unique_values\": 93,\n        \"samples\": [\n          \"Antibiotic eye drops; Antihistamines\",\n          \"Antacids; Proton pump inhibitors (PPIs)\",\n          \" Antihistamines; Anticholinergics\"\n        ],\n        \"semantic_type\": \"\",\n        \"description\": \"\"\n      }\n    },\n    {\n      \"column\": \"Vedic Medicine\",\n      \"properties\": {\n        \"dtype\": \"string\",\n        \"num_unique_values\": 84,\n        \"samples\": [\n          \" Mustard oil; Turmeric\",\n          \"Bitter gourd juice, Fenugreek seeds\",\n          \" Tulsi; Neem\"\n        ],\n        \"semantic_type\": \"\",\n        \"description\": \"\"\n      }\n    },\n    {\n      \"column\": \"Unnamed: 4\",\n      \"properties\": {\n        \"dtype\": \"number\",\n        \"std\": null,\n        \"min\": null,\n        \"max\": null,\n        \"num_unique_values\": 0,\n        \"samples\": [],\n        \"semantic_type\": \"\",\n        \"description\": \"\"\n      }\n    }\n  ]\n}"
            }
          },
          "metadata": {},
          "execution_count": 57
        }
      ]
    },
    {
      "cell_type": "code",
      "source": [
        "# Encode categorical variables\n",
        "le_disease = LabelEncoder()\n",
        "le_type = LabelEncoder()\n",
        "le_english_medicine = LabelEncoder()\n",
        "le_vedic_medicine = LabelEncoder()\n",
        "\n",
        "rd['Disease'] = le_disease.fit_transform(rd['Disease'])\n",
        "rd['Type'] = le_type.fit_transform(rd['Type'])\n",
        "rd['English Medicine'] = le_english_medicine.fit_transform(rd['English Medicine'])\n",
        "rd['Vedic Medicine'] = le_vedic_medicine.fit_transform(rd['Vedic Medicine'])\n"
      ],
      "metadata": {
        "id": "i0FQ30rfdmth"
      },
      "execution_count": null,
      "outputs": []
    },
    {
      "cell_type": "code",
      "source": [
        "# Split the data into features and target\n",
        "X = rd[['Disease', 'Type']]\n",
        "y_english_medicine = rd['English Medicine']\n",
        "y_vedic_medicine = rd['Vedic Medicine']"
      ],
      "metadata": {
        "id": "7eeEHNZpeEX6"
      },
      "execution_count": null,
      "outputs": []
    },
    {
      "cell_type": "code",
      "source": [
        "# Check class distribution\n",
        "print(y_english_medicine.value_counts())\n",
        "print(y_vedic_medicine.value_counts())"
      ],
      "metadata": {
        "colab": {
          "base_uri": "https://localhost:8080/"
        },
        "id": "ZFYo-MY1mird",
        "outputId": "efc3cacf-0752-4e18-bab6-c7a31d57dd45"
      },
      "execution_count": null,
      "outputs": [
        {
          "output_type": "stream",
          "name": "stdout",
          "text": [
            "English Medicine\n",
            "12    3\n",
            "7     3\n",
            "37    2\n",
            "47    1\n",
            "43    1\n",
            "     ..\n",
            "75    1\n",
            "61    1\n",
            "80    1\n",
            "81    1\n",
            "93    1\n",
            "Name: count, Length: 94, dtype: int64\n",
            "Vedic Medicine\n",
            "33    6\n",
            "55    4\n",
            "7     2\n",
            "43    2\n",
            "68    2\n",
            "     ..\n",
            "80    1\n",
            "74    1\n",
            "70    1\n",
            "49    1\n",
            "84    1\n",
            "Name: count, Length: 85, dtype: int64\n"
          ]
        }
      ]
    },
    {
      "cell_type": "code",
      "source": [
        "# Address class imbalance using RandomOverSampler\n",
        "ros = RandomOverSampler(random_state=42)\n",
        "X_resampled_english, y_resampled_english = ros.fit_resample(X, y_english_medicine)\n",
        "X_resampled_vedic, y_resampled_vedic = ros.fit_resample(X, y_vedic_medicine)"
      ],
      "metadata": {
        "id": "Hr7ndTH3shq6"
      },
      "execution_count": null,
      "outputs": []
    },
    {
      "cell_type": "code",
      "source": [
        "# Split the data into training and testing sets\n",
        "X_train_eng, X_test_eng, y_train_eng, y_test_eng = train_test_split(X_resampled_english, y_resampled_english, test_size=0.2, random_state=42)\n",
        "X_train_vedic, X_test_vedic, y_train_vedic, y_test_vedic = train_test_split(X_resampled_vedic, y_resampled_vedic, test_size=0.2, random_state=42)"
      ],
      "metadata": {
        "id": "ROTWSbD1tMpL"
      },
      "execution_count": null,
      "outputs": []
    },
    {
      "cell_type": "code",
      "source": [
        "models = {\n",
        "    'RandomForest': RandomForestClassifier(),\n",
        "    'LogisticRegression': LogisticRegression(max_iter=1000)\n",
        "}\n",
        "\n",
        "best_model_english = None\n",
        "best_score_english = 0\n",
        "best_model_vedic = None\n",
        "best_score_vedic = 0"
      ],
      "metadata": {
        "id": "8xJ1cFbksyPq"
      },
      "execution_count": null,
      "outputs": []
    },
    {
      "cell_type": "code",
      "source": [
        "for model_name, model in models.items():\n",
        "    # English medicine prediction\n",
        "    model.fit(X_train_eng, y_train_eng)\n",
        "    y_pred_eng = model.predict(X_test_eng)\n",
        "    f1_eng = f1_score(y_test_eng, y_pred_eng, average='macro', zero_division=1)\n",
        "    print(f'F1-score for {model_name} (English medicine): {f1_eng}')\n",
        "    if f1_eng > best_score_english:\n",
        "        best_score_english = f1_eng\n",
        "        best_model_english = model\n",
        "\n",
        "    # Vedic medicine prediction\n",
        "    model.fit(X_train_vedic, y_train_vedic)\n",
        "    y_pred_vedic = model.predict(X_test_vedic)\n",
        "    f1_vedic = f1_score(y_test_vedic, y_pred_vedic, average='macro', zero_division=1)\n",
        "    print(f'F1-score for {model_name} (Vedic medicine): {f1_vedic}')\n",
        "    if f1_vedic > best_score_vedic:\n",
        "        best_score_vedic = f1_vedic\n",
        "        best_model_vedic = model\n"
      ],
      "metadata": {
        "colab": {
          "base_uri": "https://localhost:8080/"
        },
        "id": "pMgG0Xoqs09S",
        "outputId": "b57b819b-2747-4ace-f747-5c8fef976b8f"
      },
      "execution_count": null,
      "outputs": [
        {
          "output_type": "stream",
          "name": "stdout",
          "text": [
            "F1-score for RandomForest (English medicine): 0.8823529411764706\n",
            "F1-score for RandomForest (Vedic medicine): 0.9722222222222221\n",
            "F1-score for LogisticRegression (English medicine): 0.14814814814814814\n",
            "F1-score for LogisticRegression (Vedic medicine): 0.30414347557204696\n"
          ]
        }
      ]
    },
    {
      "cell_type": "code",
      "source": [
        "# Function to make predictions\n",
        "def predict_medicine(disease_name, disease_type):\n",
        "    try:\n",
        "        disease_name = disease_name.strip()\n",
        "        disease_type = disease_type.strip()\n",
        "\n",
        "        if disease_name not in le_disease.classes_ or disease_type not in le_type.classes_:\n",
        "            raise ValueError(f\"Invalid input: {disease_name} or {disease_type} is not in the label encoders' classes\")\n",
        "\n",
        "        disease_encoded = le_disease.transform([disease_name])\n",
        "        type_encoded = le_type.transform([disease_type])\n",
        "        features = [[disease_encoded[0], type_encoded[0]]]\n",
        "\n",
        "        english_medicine_encoded = best_model_english.predict(features)\n",
        "        vedic_medicine_encoded = best_model_vedic.predict(features)\n",
        "\n",
        "\n",
        "        english_medicine = le_english_medicine.inverse_transform(english_medicine_encoded)\n",
        "        vedic_medicine = le_vedic_medicine.inverse_transform(vedic_medicine_encoded)\n",
        "\n",
        "        return english_medicine[0], vedic_medicine[0]\n",
        "    except ValueError as e:\n",
        "        return str(e), str(e)"
      ],
      "metadata": {
        "id": "jrnHC9w1tdmC"
      },
      "execution_count": null,
      "outputs": []
    },
    {
      "cell_type": "code",
      "source": [
        "# Example prediction\n",
        "example_disease = 'Hypertension'\n",
        "example_type = 'Chronic\t'\n",
        "predicted_english_medicine, predicted_vedic_medicine = predict_medicine(example_disease, example_type)\n",
        "print(f'Predicted English medicine for {example_disease} ({example_type}): {predicted_english_medicine}')\n",
        "print(f'Predicted Vedic medicine for {example_disease} ({example_type}): {predicted_vedic_medicine}')"
      ],
      "metadata": {
        "colab": {
          "base_uri": "https://localhost:8080/"
        },
        "id": "-dhbyUfJti4y",
        "outputId": "f3a334bb-3f92-4a6e-f3fb-7fd2d44aa3b0"
      },
      "execution_count": null,
      "outputs": [
        {
          "output_type": "stream",
          "name": "stdout",
          "text": [
            "Predicted English medicine for Hypertension (Chronic\t): Levodopa, Dopamine agonists\n",
            "Predicted Vedic medicine for Hypertension (Chronic\t): Sarpagandha, Ashwagandha\n"
          ]
        }
      ]
    },
    {
      "cell_type": "code",
      "source": [
        "# Save the best models using pickle\n",
        "with open('best_model_english.pkl', 'wb') as f:\n",
        "    pickle.dump(best_model_english, f)\n",
        "\n",
        "with open('best_model_vedic.pkl', 'wb') as f:\n",
        "    pickle.dump(best_model_vedic, f)\n",
        "\n",
        "with open('le_disease.pkl', 'wb') as f:\n",
        "    pickle.dump(le_disease, f)\n",
        "\n",
        "with open('le_type.pkl', 'wb') as f:\n",
        "    pickle.dump(le_type, f)\n",
        "\n",
        "with open('le_english_medicine.pkl', 'wb') as f:\n",
        "    pickle.dump(le_english_medicine, f)\n",
        "\n",
        "with open('le_vedic_medicine.pkl', 'wb') as f:\n",
        "    pickle.dump(le_vedic_medicine, f)"
      ],
      "metadata": {
        "id": "8hbI-j5PtpVh"
      },
      "execution_count": null,
      "outputs": []
    },
    {
      "cell_type": "code",
      "source": [
        "# Load the best models using pickle\n",
        "def load_models():\n",
        "    with open('best_model_english.pkl', 'rb') as f:\n",
        "        best_model_english = pickle.load(f)\n",
        "    with open('best_model_vedic.pkl', 'rb') as f:\n",
        "        best_model_vedic = pickle.load(f)\n",
        "    with open('le_disease.pkl', 'rb') as f:\n",
        "        le_disease = pickle.load(f)\n",
        "    with open('le_type.pkl', 'rb') as f:\n",
        "        le_type = pickle.load(f)\n",
        "    with open('le_english_medicine.pkl', 'rb') as f:\n",
        "        le_english_medicine = pickle.load(f)\n",
        "    with open('le_vedic_medicine.pkl', 'rb') as f:\n",
        "        le_vedic_medicine = pickle.load(f)\n",
        "    return best_model_english, best_model_vedic, le_disease, le_type, le_english_medicine, le_vedic_medicine\n",
        "\n",
        "best_model_english, best_model_vedic, le_disease, le_type, le_english_medicine, le_vedic_medicine = load_models()\n"
      ],
      "metadata": {
        "id": "P2INzl92twDK"
      },
      "execution_count": null,
      "outputs": []
    }
  ]
}